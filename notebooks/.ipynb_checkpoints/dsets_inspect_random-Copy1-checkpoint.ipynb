{
 "cells": [
  {
   "cell_type": "markdown",
   "id": "0c677b0b",
   "metadata": {},
   "source": [
    "# Common"
   ]
  },
  {
   "cell_type": "code",
   "execution_count": null,
   "id": "52eacf4d",
   "metadata": {},
   "outputs": [],
   "source": [
    "import IPython.display as idp\n",
    "import librosa\n",
    "import random\n",
    "import numpy as np\n",
    "import matplotlib.pyplot as plt\n",
    "import os\n",
    "import tqdm\n",
    "import warnings\n",
    "from IPython.display import Audio\n",
    "from scipy.io import wavfile"
   ]
  },
  {
   "cell_type": "markdown",
   "id": "ef6684bd",
   "metadata": {},
   "source": [
    "# FMA\n",
    "\n",
    "https://arxiv.org/pdf/1612.01840.pdf\n",
    "\n",
    "https://github.com/mdeff/fma\n",
    "\n",
    "https://nbviewer.org/github/mdeff/fma/blob/outputs/usage.ipynb"
   ]
  },
  {
   "cell_type": "code",
   "execution_count": null,
   "id": "e2077d0e",
   "metadata": {},
   "outputs": [],
   "source": [
    "with warnings.catch_warnings():\n",
    "    warnings.filterwarnings(\"ignore\")\n",
    "    print(os.listdir('/proj/vondrick2/datasets/FMA/fma_large/'))\n",
    "    src_dp = '/proj/vondrick2/datasets/FMA/fma_large/143/'\n",
    "    xs = []\n",
    "    for i in range(4):\n",
    "        src_fn = random.choice(os.listdir(src_dp))\n",
    "        src_fp = os.path.join(src_dp, src_fn)\n",
    "        x, Fs = librosa.load(src_fp)\n",
    "        xs.append(x)\n",
    "        print(src_fn, x.shape, Fs, x.shape[0] / Fs, x.min(), x.max())"
   ]
  },
  {
   "cell_type": "code",
   "execution_count": null,
   "id": "03e78929",
   "metadata": {},
   "outputs": [],
   "source": [
    "for x in xs:\n",
    "    idp.display(Audio(x, rate=Fs))"
   ]
  },
  {
   "cell_type": "markdown",
   "id": "518ef6d6",
   "metadata": {},
   "source": [
    "# MUSDB18\n",
    "\n",
    "https://sigsep.github.io/datasets/musdb.html"
   ]
  },
  {
   "cell_type": "code",
   "execution_count": null,
   "id": "9b50c815",
   "metadata": {},
   "outputs": [],
   "source": [
    "with warnings.catch_warnings():\n",
    "    warnings.filterwarnings(\"ignore\")\n",
    "    src_dp = '/proj/vondrick/datasets/musdb18/test'\n",
    "    xs = []\n",
    "    for i in range(4):\n",
    "        src_fn = random.choice(os.listdir(src_dp))\n",
    "        src_fp = os.path.join(src_dp, src_fn)\n",
    "        x, Fs = librosa.load(src_fp)\n",
    "        xs.append(x)\n",
    "        print(src_fn, x.shape, Fs, x.shape[0] / Fs, x.min(), x.max())"
   ]
  },
  {
   "cell_type": "code",
   "execution_count": null,
   "id": "71609ab7",
   "metadata": {},
   "outputs": [],
   "source": [
    "for x in xs:\n",
    "    idp.display(Audio(x, rate=Fs))"
   ]
  },
  {
   "cell_type": "markdown",
   "id": "df95940a",
   "metadata": {},
   "source": [
    "# Slakh\n",
    "\n",
    "https://arxiv.org/pdf/1909.08494.pdf\n",
    "\n",
    "http://www.slakh.com/\n",
    "\n",
    "https://github.com/ethman/slakh-utils"
   ]
  },
  {
   "cell_type": "code",
   "execution_count": null,
   "id": "e4b1cd2a",
   "metadata": {},
   "outputs": [],
   "source": [
    "with warnings.catch_warnings():\n",
    "    warnings.filterwarnings(\"ignore\")\n",
    "    src_dp = '/proj/vondrick2/datasets/slakh2100_flac_redux/validation/'\n",
    "    xs = []\n",
    "    for i in range(6):\n",
    "        src_dn = random.choice([dn for dn in os.listdir(src_dp) if os.path.isdir(os.path.join(src_dp, dn))])\n",
    "        src_fn = 'mix.flac'\n",
    "        src_fp = os.path.join(src_dp, src_dn, src_fn)\n",
    "        x, Fs = librosa.load(src_fp)\n",
    "        xs.append(x)\n",
    "        print(src_dn, x.shape, Fs, x.shape[0] / Fs, x.min(), x.max())"
   ]
  },
  {
   "cell_type": "code",
   "execution_count": null,
   "id": "fac4a7a4",
   "metadata": {},
   "outputs": [],
   "source": [
    "for x in xs:\n",
    "    idp.display(Audio(x, rate=Fs))"
   ]
  },
  {
   "cell_type": "code",
   "execution_count": null,
   "id": "e1982c73",
   "metadata": {},
   "outputs": [],
   "source": []
  }
 ],
 "metadata": {
  "kernelspec": {
   "display_name": "Python 3",
   "language": "python",
   "name": "python3"
  },
  "language_info": {
   "codemirror_mode": {
    "name": "ipython",
    "version": 3
   },
   "file_extension": ".py",
   "mimetype": "text/x-python",
   "name": "python",
   "nbconvert_exporter": "python",
   "pygments_lexer": "ipython3",
   "version": "3.7.11"
  }
 },
 "nbformat": 4,
 "nbformat_minor": 5
}
